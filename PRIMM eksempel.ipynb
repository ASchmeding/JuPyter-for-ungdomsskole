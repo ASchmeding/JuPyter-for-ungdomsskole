{
 "cells": [
  {
   "cell_type": "markdown",
   "metadata": {},
   "source": [
    "# PRIMM syklus\n",
    "\n",
    "Formålet med notatet er å fremstille et eksempel for opplæring i programmering ved hjelp av PRIMM syklus. PRIMM er en avkortning for\n",
    "\n",
    "**P**redict (Forutse) - Koden sjekkes før den er utført. Kan elever avgjøre hva den gjøres?\n",
    "\n",
    "**R**un (Kjør) - Kjør koden og sjekk hva resultatet er.\n",
    "\n",
    "**I**nvestigate (Undersøk) - Undersøk koden, hva skjer i koden og hvordan er det relatert til problemet\n",
    "\n",
    "**M**odify (Endre) - Endre koden slik at den opnå målet.\n",
    "\n",
    "**M**ake (Lag) - Lag ny kode/ny program på grunnlag av gamlet kode.\n",
    "\n",
    "Notatet nede gi et eksempel for PRIMM syklus. Notatet er tenkt som et enkelt oversikt av syklus, så vi skal annotere med didaktiske kommentar (dvs. før man legger det ut for elever bør man redigere notatet)."
   ]
  },
  {
   "cell_type": "markdown",
   "metadata": {},
   "source": [
    "## PRIMM eksempel: Hvordan bytte verdien av to variabler\n",
    "\n",
    "I koden nede skal Python jobbe med to variabler <code>x</code> og <code>y</code>. Før du kjør koden, prøv å finne ut hva resultatet av programmet skulle være og hva målet med koden kunne være.\n",
    "\n",
    "**Didaktisk kommentar:** Her ser vi første steg i PRIMM syklus. Elever må forutse hva koden gjør. Formålet er enkelt å forstå ved hjelp av tekst i <code>print()</code> kommando. Vitsen med oppgaven er at det er veldig enkelt men inneholder en vanlig misoppfattning mange nybegynnere i programmering har."
   ]
  },
  {
   "cell_type": "code",
   "execution_count": 3,
   "metadata": {},
   "outputs": [
    {
     "name": "stdout",
     "output_type": "stream",
     "text": [
      "Verdien til x etter bytte:  10\n",
      "Verdien til y etter bytte:  10\n"
     ]
    }
   ],
   "source": [
    "x = 5\n",
    "y = 10\n",
    "\n",
    "x = y\n",
    "y = x\n",
    "\n",
    "print('Verdien til x etter bytte: ', x)\n",
    "print('Verdien til y etter bytte: ', y)"
   ]
  },
  {
   "cell_type": "markdown",
   "metadata": {},
   "source": [
    "Kjør nå programmet, er resultatet som du hadde forventet?\n",
    "\n",
    "**Didaktisk kommentar:** Steg 2 i PRIMM, de skal kjøre programmet og finne ut hva resultatet er. Overraskelse er antageligvis for de fleste at de to variabler har nå samme verdi. Det gir oss anledning å undersøke kode i neste steg.\n",
    "\n",
    "Resultatet var kanskje litt overraskende gitt formålet med programmet. La oss undersøke det nå og finne ut hva har skjedd. Kommenter programmkode linje for linje:\n",
    "\n",
    "**Didaktisk kommentar** Steg 3 i Primm, vi bruker kommentarfunksjonen i Python for å undersøke koden systematisk. Nede har vi angitt en mulig løsning til steget."
   ]
  },
  {
   "cell_type": "code",
   "execution_count": null,
   "metadata": {},
   "outputs": [],
   "source": [
    "x = 5   #Definer en variabel x med verdi 5\n",
    "y = 10  #Definer en variabel y med verdi 10  \n",
    "\n",
    "x = y   #Sett verdien av x til verdien av y\n",
    "y = x   #Sett verdien av y til verdien av x\n",
    "\n",
    "print('Verdien til x etter bytte: ', x) #Skriv ut verdien av x og forklaring på skjerm\n",
    "print('Verdien til y etter bytte: ', y) #Skriv ut verdien av x og forklaring på skjerm"
   ]
  },
  {
   "cell_type": "markdown",
   "metadata": {},
   "source": [
    "Formålet med koden er å bytte verdien til to variabler. Forklar hvorfor begge variabler har samme verdi etter koden har kjort. Hvorfor ble verdiene ikke byttet.\n",
    "\n",
    "**Hint 1:** Python utfører instruksjoner i programkode linje for linje. Dvs. det som kommer først utføres først.\n",
    "\n",
    "**Hint 2:** En variabel er et navn for en verdi. Variabler tillatter at Python husker en verdi, men en variabel kan bare ha *en* verdi i hver gitt tidspunkt.\n",
    "\n",
    "**Didaktisk kommentar** Vi er fortsatt i steg 3 av PRIMM syklus. Nå ber vi elever å analysere feilen. Avhengig av kunnskap elevene har må vi tipse dem om hva gikk galt. Det leder over til neste steg hvor de skal endre programmet."
   ]
  },
  {
   "cell_type": "markdown",
   "metadata": {},
   "source": [
    "**Løsningsforslag** Problemet er i linjer 4 og 5 når vi setter nye verdier for $x$ og $y$. Vi endrer verdien av $x$ til verdien av $y$ i linje 4. Siden det utføres først og en variabel kan bare ha en verdi i hvert tidspunkt *glemmer* Python opprinnelig verdi til $x$. Så den er ikke lengre tilgjengelig når linje 5 kjøres. Dermed endrer Python i linje 5 verdien av $y$ til verdien av $x$, men det er allerede endret til opprinnelig verdien av $y$. Så begge variabler har samme verdi deretter.\n",
    "Konklusjon: Det er umulig å bytte verdien av to variabler bare ved hjelp av de to variabler."
   ]
  },
  {
   "cell_type": "markdown",
   "metadata": {},
   "source": [
    "Endre programmet slik at den faktisk byttes de to variabler.\n",
    "\n",
    "**Hint:** Kan dere innføre en tredje variabel som kan hjelpe med problemet?\n",
    "\n",
    "**Didaktisk kommentar** Vi har nå begynt med Steg 4 i PRIMM. Elever skal endre programmet slik at den oppnå målet. Det er kanskje ikke nødvendig å tippse dem om en tredje variabel som trengs for programmering, men i erfaringen vi har hatt med oppgaven, prøver mange istedet av å bytte variabler å bare sette $x,y$ til de forventete verdier, dvs. koden ser slik ut:\n",
    "<code>\n",
    "    x=5\n",
    "    y=10\n",
    "    x=y\n",
    "    y=5\n",
    "    ...\n",
    "    </code"
   ]
  },
  {
   "cell_type": "code",
   "execution_count": null,
   "metadata": {},
   "outputs": [],
   "source": [
    "#Løsningsforslag\n",
    "\n",
    "x=5\n",
    "y=10\n",
    "\n",
    "hjelpevariabel = x  #Bruk en ny variabel for å lagre verdien til x\n",
    "x=y\n",
    "y= hjelpevariabel\n",
    "\n",
    "print('Verdien til x etter bytte: ', x)\n",
    "print('Verdien til y etter bytte: ', y)"
   ]
  },
  {
   "cell_type": "markdown",
   "metadata": {},
   "source": [
    "Lag en program som ber brukeren å taste inn to tall, lagrer dem som variabler og bytter verdien til disse to etterpå før den skrives ut verdiene på skjermen.\n",
    "\n",
    "**Hint:** I Python\n",
    "**Didaktisk kommentar** Siste steg i PRIMM syklus. Elever skal videreutvikle programmet. Det er nå mer utfordrende. Ideen er at de kan gjenbruke koden de er allerede kjent med."
   ]
  }
 ],
 "metadata": {
  "kernelspec": {
   "display_name": "Python 3",
   "language": "python",
   "name": "python3"
  },
  "language_info": {
   "codemirror_mode": {
    "name": "ipython",
    "version": 3
   },
   "file_extension": ".py",
   "mimetype": "text/x-python",
   "name": "python",
   "nbconvert_exporter": "python",
   "pygments_lexer": "ipython3",
   "version": "3.7.4"
  }
 },
 "nbformat": 4,
 "nbformat_minor": 2
}
