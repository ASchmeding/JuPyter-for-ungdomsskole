{
 "cells": [
  {
   "cell_type": "markdown",
   "metadata": {},
   "source": [
    "# Python finner pytagoreiske trippler \n",
    "\n",
    "I denne oppgaven bryr vi oss om **pytagoreiske trippler**. Vi kaller tre naturlige tall $a < b < c$, slik at $$a^2 + b^2 = c^2$$\n",
    "gjelder *pytagoreisk trippel*.\n",
    "\n",
    "For eksempel $3^2 + 4^2 = 9 + 16 = 25 = 5^2$ og dermed er $(3,4,5)$ et pytagoreisk trippel.\n",
    "Vi kaller dem pytagoreiske trippel fordi en trekant med sidene på lengde $(a,b,c)$ er rettvinklet. \n",
    "\n",
    "|To eksempler av pytagoreiske trippler |  |\n",
    "|:-:|:-:| \n",
    "|<img src=\"https://upload.wikimedia.org/wikipedia/commons/d/da/Rtriangle-mathsinegypt.svg\" width=\"300\" />|<img src=\"https://i1.wp.com/www.noahbprince.com/wp-content/uploads/2017/08/pt81517-2.png\" width=\"400\" />| \n",
    "|||\n",
    "\n",
    "Se [Wikipedia: Pytagoreisk trippel](https://no.wikipedia.org/wiki/Pytagoreisk_trippel) \n",
    "\n",
    "Det er kjent at det fins bare ett pytagoreisk trippel slik at $a+b+c =1000$. \n",
    "Oppgaven din er å bruke Python for å finne den pytagoreisk trippel $0 < a < b < c < 1000$ som oppfyller \n",
    "$$a+b+c=1000 \\text{ og } a^2 + b^2 = c^2$$\n",
    "Etter du har funnet tallene beregn produkten $a\\cdot b\\cdot c$.\n",
    "\n",
    "Tips: \n",
    "- Merk: Vi må velge minst to tall mellom $1$ og $999$ før vi kunne bestemme et pytagoreisk trippel (hvorfor?)\n",
    "- Datamaskiner er ganske bra å gjenta ting ved hjelp av løkker. Mens du kan ikke teste alle tallene mellom $1$ og $999$ kan datamaskinen gjøre det (i under et sekund). \n",
    "- Før du programmerer lag en plan på papir. Hvordan kan vi oversette likninger $a,b,c$ må oppfylle til noe Python klarer å sjekke?\n",
    "- Hvis du har behov for en kvadratrotfunksjon: <code>math</code> biblioteket har en funksjon som heter <code>sqrt()</code> og kan hjelpe med det.\n",
    "\n",
    "### Kommentar angående løsning før vi programmerer\n",
    "\n",
    "- Siden vi skal bare sjekke tallene mellom $1$ og $1000$ bruker vi for-løkker.\n",
    "- Det er lurt å skissere de stegene vi må ta på forhand på papir eller på tavla.\n",
    "- Oppgaven er et standardeksempel for et problem som bruker to løkker som settes inn i hverandre.\n",
    "- Vi bruker at $a+b+c = 1000 \\Leftrightarrow c = 1000-a-b$, så det er nok å velge $a,b$ og beregne $c$ deretter.\n",
    "- (Oppgaven alrede oppgir at det fins bare ett pytagoreisk trippel. Så vi kan avslutte etter programmet har funnet den vi leter etter.)"
   ]
  },
  {
   "cell_type": "code",
   "execution_count": null,
   "metadata": {},
   "outputs": [],
   "source": [
    "#Skriv din kode her, kjør den ved å trykke på SHIFT + ENTER\n",
    "for a in range(1,1000):    #Sjekk tallene mellom 1 og 999 (egentlig ville det være nok å sjekke alle til 998)\n",
    "    for b in range (a,1000-a): #Vi kan starte med a og antar at b er minst så stor som a (tallene er ordnet!)\n",
    "        c = 1000-a-b\n",
    "        if (a**2+b**2)== c**2:\n",
    "            print('Har funnet trippel: a=', a, 'b=',b,'c=',c)\n",
    "            print('Produkten av dem er ', a*b*c)"
   ]
  },
  {
   "cell_type": "code",
   "execution_count": null,
   "metadata": {},
   "outputs": [],
   "source": []
  }
 ],
 "metadata": {
  "kernelspec": {
   "display_name": "Python 3",
   "language": "python",
   "name": "python3"
  },
  "language_info": {
   "codemirror_mode": {
    "name": "ipython",
    "version": 3
   },
   "file_extension": ".py",
   "mimetype": "text/x-python",
   "name": "python",
   "nbconvert_exporter": "python",
   "pygments_lexer": "ipython3",
   "version": "3.7.4"
  }
 },
 "nbformat": 4,
 "nbformat_minor": 4
}
