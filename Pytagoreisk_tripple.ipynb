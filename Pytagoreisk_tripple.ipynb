{
 "cells": [
  {
   "cell_type": "markdown",
   "metadata": {},
   "source": [
    "# Python finner pytagoreiske trippler \n",
    "\n",
    "I denne oppgaven bryr vi oss om **pytagoreiske trippler**. Vi kaller tre naturlige tall $a < b < c$, slik at $$a^2 + b^2 = c^2$$\n",
    "gjelder *pytagoreisk trippel*.\n",
    "\n",
    "For eksempel $3^2 + 4^2 = 9 + 16 = 25 = 5^2$ og dermed er $(3,4,5)$ et pytagoreisk trippel.\n",
    "Vi kaller dem pytagoreiske trippel fordi en trekant med sidene på lengde $(a,b,c)$ er rettvinklet. \n",
    "\n",
    "|To eksempler av pytagoreiske trippler |  |\n",
    "|:-:|:-:| \n",
    "|<img src=\"https://upload.wikimedia.org/wikipedia/commons/d/da/Rtriangle-mathsinegypt.svg\" width=\"300\" />|<img src=\"https://i1.wp.com/www.noahbprince.com/wp-content/uploads/2017/08/pt81517-2.png\" width=\"400\" />| \n",
    "|||\n",
    "\n",
    "Se [Wikipedia: Pytagoreisk trippel](https://no.wikipedia.org/wiki/Pytagoreisk_trippel) \n",
    "\n",
    "Det er kjent at det fins bare ett pytagoreisk trippel slik at $a+b+c =1000$. \n",
    "Oppgaven din er å bruke Python for å finne den pytagoreisk trippel $0 < a < b < c < 1000$ som oppfyller \n",
    "$$a+b+c=1000 \\text{ og } a^2 + b^2 = c^2$$\n",
    "Etter du har funnet tallene beregn produkten $a\\cdot b\\cdot c$.\n",
    "\n",
    "Tips: \n",
    "- Merk: Vi må velge minst to tall mellom $1$ og $999$ før vi kunne bestemme et pytagoreisk trippel (hvorfor?)\n",
    "- Datamaskiner er ganske bra å gjenta ting ved hjelp av løkker. Mens du kan ikke teste alle tallene mellom $1$ og $999$ kan datamaskinen gjøre det (i under et sekund). \n",
    "- Før du programmerer lag en plan på papir. Hvordan kan vi oversette likninger $a,b,c$ må oppfylle til noe Python klarer å sjekke?\n",
    "- Hvis du har behov for en kvadratrotfunksjon: <code>math</code> biblioteket har en funksjon som heter <code>sqrt()</code> og kan hjelpe med det."
   ]
  },
  {
   "cell_type": "code",
   "execution_count": null,
   "metadata": {},
   "outputs": [],
   "source": [
    "#Skriv din kode her, kjør den ved å trykke på SHIFT + ENTER"
   ]
  }
 ],
 "metadata": {
  "kernelspec": {
   "display_name": "Python 3",
   "language": "python",
   "name": "python3"
  },
  "language_info": {
   "codemirror_mode": {
    "name": "ipython",
    "version": 3
   },
   "file_extension": ".py",
   "mimetype": "text/x-python",
   "name": "python",
   "nbconvert_exporter": "python",
   "pygments_lexer": "ipython3",
   "version": "3.7.4"
  }
 },
 "nbformat": 4,
 "nbformat_minor": 4
}
