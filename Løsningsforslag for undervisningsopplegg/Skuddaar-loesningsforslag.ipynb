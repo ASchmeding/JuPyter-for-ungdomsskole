{
 "cells": [
  {
   "cell_type": "markdown",
   "metadata": {},
   "source": [
    "# Skuddår eller ikke?\n",
    "\n",
    "Jeg kan aldri huske når et år er et skuddår selv om det fins ganske enkle regler for det (se tabellen under). Mål i dette økt er å programmere Python for å svare på spørsmålet om et gitt år er skuddår eller ikke. \n",
    "\n",
    "#### Skuddår? Regler avhengig av årstall\n",
    "\n",
    "Årstall            |  Skuddår?\n",
    "------------------ |  ------------------- \n",
    "ikke delelig med $4$ |  ikke skuddår             \n",
    "delelig med $4$    |  skuddår             \n",
    "delelig med $100$  |  ikke skuddår     \n",
    "delelig med $400$  |  skuddår\n",
    "\n",
    "Merk at reglene som står videre nede er sterkere enn de som står høyre oppe. Dvs. $1900$ er ikke et skuddår siden den er delelig med $100$ (og ikke delelig med $400$) mens den er delelig med $4$."
   ]
  },
  {
   "cell_type": "markdown",
   "metadata": {},
   "source": [
    "## Er tallet delelig med et annet tall?\n",
    "\n",
    "La oss først se på en operasjon <code>%</code> som heter **modulus**. \n",
    "\n",
    "**Oppgave** Se på følgende utregninger i Python og forklar hva modulus gjør i egne ord."
   ]
  },
  {
   "cell_type": "code",
   "execution_count": null,
   "metadata": {},
   "outputs": [],
   "source": [
    "#Vi ser på noen eksempler for utregninger ved bruk av modulus\n",
    "#Ikke endre koden i cellen, det er tenkt som et hjelpemiddle for deg! Trykk SHIFT + ENTER\n",
    "\n",
    "print( '4 % 2 = ',4 % 2 , ',   4 % 3 = ' , 4%3,',   4 % 4 = ' , 4%4 ,',   4 % 5 = ' , 4%5)\n",
    "print( '5 % 2 = ',5 % 2 , ',   5 % 3 = ' , 5%3,',   5 % 4 = ' , 5%4 ,',   5 % 5 = ' , 4%5)"
   ]
  },
  {
   "cell_type": "markdown",
   "metadata": {},
   "source": [
    "**Forklaringer:** Ved å bruke modulus beregner Python resten av et tall etter langdivisjon med et annet tall. \n",
    "For eksempel, hvis vi beregner $5 \\% 4$ så utføres det langdivisjon $5 \\% 4 = 1 \\cdot 4 + 1$. Rest er $1$ og dermed er resultatet <code>5 % 4 =1</code>.\n",
    "Merk at et tall er delelig med et annet tall hvis og bare hvis modulus gir $0$!"
   ]
  },
  {
   "cell_type": "markdown",
   "metadata": {},
   "source": [
    "Odd sier \"Vi kan bruke modulus for å avgjøre om et tall er delelig med et annet tall, for dette bør vi bare se på hva resultatet av <code>%</code> er\". \n",
    "\n",
    "Forklar hvordan du kan bruke resultatet av <code>1900 % 4</code> og <code> 1900 % 400</code> for å avgjøre at $1900$ er delelig med $4$ men ikke delelig med $400$."
   ]
  },
  {
   "cell_type": "code",
   "execution_count": null,
   "metadata": {},
   "outputs": [],
   "source": [
    "#Cellen som kan vise deg resultatet av modulus\n",
    "print('1900 % 4 = ',1900 % 4, ' 1900 % 400 = ', 1900 % 400)"
   ]
  },
  {
   "cell_type": "markdown",
   "metadata": {},
   "source": [
    "**Forklaringer:** Som sagt er resten av modulus avgjørende om et tall er delelig med et annet tall eller ikke. \n",
    "Siden <code>1900 % 4 = 0</code> men <code> 1900 % 400 = 300</code> er $1900$ delelig med $4$ men ikke med $400$."
   ]
  },
  {
   "cell_type": "markdown",
   "metadata": {},
   "source": [
    "## Test for skuddår!\n",
    "\n",
    "Lag en program som tester om et år er et skuddår. Deretter skal den skrive ut resultatet på skjermen. Vi anbefaler å bruke modulus for testen og repeterer nå igjen tabellen med egenskaper som testes for å finne ut om året er et skuddår.\n",
    "\n",
    "#### Skuddår? Regler avhengig av årstall\n",
    "\n",
    "Årstall            |  Skuddår?\n",
    "------------------ |  ------------------- \n",
    "ikke delelig med $4$ |  ikke skuddår             \n",
    "delelig med $4$    |  skuddår             \n",
    "delelig med $100$  |  ikke skuddår     \n",
    "delelig med $400$  |  skuddår\n",
    "\n",
    "Merk at reglene som står videre nede er sterkere enn de som står høyre oppe. Dvs. $1900$ er ikke et skuddår siden den er delelig med $100$ (og ikke delelig med $400$) mens den er delelig med $4$."
   ]
  },
  {
   "cell_type": "code",
   "execution_count": null,
   "metadata": {},
   "outputs": [],
   "source": [
    "#Plass for din kode. Husk å trykke SHIFT+ENTER for å kjøre\n",
    "arstall = 1900             # Vi jobber direkte med en variabel, fordelen er at vi kan gjenbruke koden direkte i neste\n",
    "                           # oppgave\n",
    "\n",
    "    #Siden vi må teste vilkår angit i tabellen trenger vi et vilkår. For dette bør vi se på tabellen\n",
    "    # Merk at de første to regler utelukker hverandre, så vi kan bruke for dem if-else vilkår\n",
    "if arstall % 4 != 0:    #Vi tester hvis arstallet er ikke delilig med 4, dvs. modulus kan ikke være lik 0!\n",
    "    print(arstall, 'er ikke et skuddår')\n",
    "else:\n",
    "    # Vi vet nå at årstall er delelig med 4\n",
    "    # reglene som står lengre ned i tabellen er sterkere, dvs. det er skuddår hvis den kan ikke deles med 100.\n",
    "    if arstall % 100 !=0:\n",
    "        print(arstall, 'er et skuddår')\n",
    "    else: #Før vi kan si at året er ikke et skuddår må vi teste om det er ikke delelig med 400!\n",
    "        if arstall % 400 ==0:\n",
    "            print(arstall, 'er et skuddår')\n",
    "        else:\n",
    "            print(arstall, 'er ikke et skuddår')"
   ]
  },
  {
   "cell_type": "markdown",
   "metadata": {},
   "source": [
    "Løsning over bruker flere if-else vilkår. I prinsippet har vi gått ned i tabellen for å avgjøre vilke vilkår vi må bruke. Siden reglene som står lengre ned er sterker kan vi også gjøre det helt annerledes ved å gå fra bunn til topp i tabellen. Vi viser en annen mulighet å løse problemet ved hjelp av if-elif-else vilkår. "
   ]
  },
  {
   "cell_type": "code",
   "execution_count": null,
   "metadata": {},
   "outputs": [],
   "source": [
    "arstall = 1900  \n",
    "\n",
    "if arstall % 400 == 0:  #Vi begynner nå med sterkest regel\n",
    "    print(arstall, 'er et skuddår')\n",
    "elif arstall % 100 == 0: #Elif kommer til å brukes bare hvis arstall er ikke delelig med 400 og dermed bør vi bare \n",
    "                         #sjekke om det er delelig med 100\n",
    "    print(arstall, 'er ikke et skuddår')\n",
    "elif arstall % 4 == 0:   #arstall er ikke delelig med 400 og ikke delelig med 100, dermed må vi bare sjekke om 4 deles\n",
    "    print(arstall, 'er et skuddår')\n",
    "else:\n",
    "    print(arstall, 'er ikke et skuddår')"
   ]
  },
  {
   "cell_type": "markdown",
   "metadata": {},
   "source": [
    "### Utvidelse ved bruk av funksjoner\n",
    "\n",
    "Bruk programkode du har lagt før for å lage en funksjon <code>skuddtest</code> i Python som tester om ett gitt år er et skuddår. Test deretter din funksjon ved bruk av neste cellen."
   ]
  },
  {
   "cell_type": "code",
   "execution_count": null,
   "metadata": {},
   "outputs": [],
   "source": [
    "def skuddtest (arstall): #Ikke endre navn til funskjon vi trenger den i neste cellen\n",
    "    #-------------- Funksjonsforklaring (alltid en god ide å forklare hva skjer)\n",
    "    # Funksjon skuddtest tester hvis et angitt tall er årstall til et skuddår\n",
    "    # Input: arstall (forventes integer) Output: Ingenting\n",
    "    if arstall % 400 == 0:  #siden vi har nevnt variabelen over arstall er det nok å kopiere det vi har gjort inn\n",
    "        print(arstall, 'er et skuddår')\n",
    "    elif arstall % 100 == 0:\n",
    "        print(arstall, 'er ikke et skuddår')\n",
    "    elif arstall % 4 == 0:  \n",
    "        print(arstall, 'er et skuddår')\n",
    "    else:\n",
    "        print(arstall, 'er ikke et skuddår')"
   ]
  },
  {
   "cell_type": "code",
   "execution_count": null,
   "metadata": {},
   "outputs": [],
   "source": [
    "#Ikke endre noe i cellen, vi bruker det som en test for funskjonen din\n",
    "skuddtest(1900)             #ikke skuddår\n",
    "skuddtest(2000)             #skuddår\n",
    "skuddtest(2004)             #skuddår\n",
    "skuddtest(2022)             #ikke skuddår"
   ]
  }
 ],
 "metadata": {
  "kernelspec": {
   "display_name": "Python 3",
   "language": "python",
   "name": "python3"
  },
  "language_info": {
   "codemirror_mode": {
    "name": "ipython",
    "version": 3
   },
   "file_extension": ".py",
   "mimetype": "text/x-python",
   "name": "python",
   "nbconvert_exporter": "python",
   "pygments_lexer": "ipython3",
   "version": "3.7.4"
  }
 },
 "nbformat": 4,
 "nbformat_minor": 4
}
