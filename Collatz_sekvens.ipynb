{
 "cells": [
  {
   "cell_type": "markdown",
   "metadata": {},
   "source": [
    "# En rar tallsekvens\n",
    "\n",
    "I dette JuPyter notatet skal vi utforske en tallsekvens som har forundret folk siden [Lothar Collatz](https://en.wikipedia.org/wiki/Lothar_Collatz) (en tysk matematiker) foreslo sekvensen i 1937.\n",
    "\n",
    "---\n",
    "> **_Collatz algoritme for å lage en tallsekvens_**\n",
    ">\n",
    "> Velg et vilkårlig naturlig tall, vi kaller det $n$:\n",
    "> - Hvis tallet er partall, del tallet med $2$ og fortsett med tallet $n/2$.\n",
    "> - Hvis tallet er et oddetall, gang tallet med $3$ og pluss på $1$, dvs. fortsett med $3n+1$.\n",
    "> \n",
    "> Repeter prosessen til tallet ender på $1$. \n",
    "> Tallene vi ender opp med kaller vi *Collatz sekvens for tallet $n$*.\n",
    "\n",
    "---\n",
    "\n",
    "La oss vise Collatz algoritmen med et eksempel. Vi velger tallet $5$. Tallene Collatz algoritmen beregner er da \n",
    "$$5,16,8,4,2,1$$\n",
    "Tallsekvensen kaller man Collatz sekvens for tallet $5$.\n",
    "\n",
    "#### Oppgave: Sjekk om du klarer å beregne tallene for $n=5$ ved hjelp av Collatz sin oppskrift. "
   ]
  },
  {
   "cell_type": "markdown",
   "metadata": {},
   "source": [
    "<details>\n",
    "<summary> Klikk her for å sjekke stegene</summary \n",
    "\n",
    "Dermed begynner vi Collatz algoritme med $n=5$.\n",
    "\n",
    "$5 (odd) \\rightarrow 3\\cdot 5 +1 =16 (partall) \\rightarrow 16/2=8 (partall) \\rightarrow 8/2 =4 (partall) \\rightarrow 4/2 =2 (partall) \\rightarrow 2/2=1$  (avslutter når vi har 1)\n",
    "</details>"
   ]
  },
  {
   "cell_type": "markdown",
   "metadata": {},
   "source": [
    "#### Oppgave: Utfør Collatz algoritme for $n=6$ og skriv Collatz sekvens for tallet $6$. Ser du et mønstret?"
   ]
  },
  {
   "cell_type": "markdown",
   "metadata": {},
   "source": [
    "<details>\n",
    "    <summary> Klikk her for å sjekke stegene</summary> \n",
    "\n",
    "   Dermed begynner vi Collatz algoritme med $n=6$.\n",
    "   $6 \\rightarrow 6/2 = 3 \\rightarrow 3\\cdot 3+1=10 \\rightarrow 10/2=5 \\rightarrow 3\\cdot 5 +1 =16 \\rightarrow 16/2=8 \\rightarrow 8/2 =4 \\rightarrow 4/2 =2 \\rightarrow 2/2=1$\n",
    "\n",
    "</details>\n"
   ]
  },
  {
   "cell_type": "markdown",
   "metadata": {},
   "source": [
    "## Collatz formodning\n",
    "\n",
    "Collatz algoritme er berømt fordi Collatz prøvde algoritmen med ganske mange tall og fikk hver gang $1$ til slutt og ikke noe uendelig tallsekvens. Det ble grunnlag til den så kallte\n",
    "\n",
    "> **Collatz formodning**\n",
    ">\n",
    "> Uansett hvilket tall man begynner med, ender Collatz sekvensen alltid etter endelig mange steg med en $1$.\n",
    "\n",
    "\n",
    "Ingen vet om Collatz alltid oppfører seg slik eller om det kan være mulig å finne et tall som gir en Collatz sekvens som oppfører seg annerledes. \n",
    "For mer informasjon kan du sjekke siste avsnitt i disse notater.\n",
    "\n",
    "Siden det ganske fort blir slitsomt å beregne Collatz sekvenser selv (prøv med $n=7$!) skal vi nå programmere en datamaskin som tar over regnearbeid.\n",
    "\n",
    "#### Oppgaver \n",
    "Se igjen på \n",
    "\n",
    "**_Collatz algoritme_**\n",
    "Velg et vilkårlig naturlig tall, vi kaller det $n$:\n",
    "- Hvis tallet er et partall, del tallet med $2$ og fortsett med tallet $n/2$.\n",
    "- Hvis tallet er et oddetall, gang tallet med $3$ og pluss på $1$, dvs. fortsett med $3n+1$.\n",
    "\n",
    "Repeter prosessen til tallet ender på $1$. \n",
    "\n",
    "og diskuter med hverandre: Hvilke grunnleggende ideer fra programmering (vilkår, løkker, osv.) trenger dere for å skrive et program som utfører Collatz algoritmen?"
   ]
  },
  {
   "cell_type": "markdown",
   "metadata": {},
   "source": [
    "## Kan Python sjekke om noen tall er odde eller ikke?\n",
    "\n",
    "Husk at et tall er et partall om det er delelig med $2$, det vil si, at tallet er i $2$er gangen.\n",
    "\n",
    "Python har en enkelt måte å avgjøre om et tall er delelig med et annet, for dette kan vi bruke <code>%</code> symbol, som man kaller her også **modulus**.\n",
    "\n",
    "#### Oppgave\n",
    "Kjør den neste cellen av JuPyter kode og se på resultater av modulus operasjon med tallet $2$. Hva må resultatet være når tallet på venstre av <code>%</code> er et partall?"
   ]
  },
  {
   "cell_type": "code",
   "execution_count": null,
   "metadata": {},
   "outputs": [],
   "source": [
    "#Vi ser på noen eksempler for utregninger ved bruk av modulus\n",
    "#Ikke endre koden i cellen, det er tenkt som hjelpemiddel for deg! \n",
    "\n",
    "print( '4 % 2 = ',4 % 2 , ',   6 % 2 = ' , 6%2,',   8 % 2 = ' , 8%2)\n",
    "print( '5 % 2 = ',5 % 2 , ',   7 % 2 = ' , 7%2,',   9 % 2 = ' , 10%2)"
   ]
  },
  {
   "cell_type": "markdown",
   "metadata": {},
   "source": [
    "Bruk resultatet om <code>% 2</code> for å lage en test hvis et tall \n",
    "er partall eller ikke. Du kan bruke koden i neste celle som utgangspunkt."
   ]
  },
  {
   "cell_type": "code",
   "execution_count": null,
   "metadata": {},
   "outputs": [],
   "source": [
    "#Vi skal lage en test som tester et tall n om det er partall eller ikke\n",
    "n=5             #Gjerne prøv med forskjellige n\n",
    "\n",
    "if (n % 2) ==  :            #Hva må stå etter '=='?\n",
    "    print('tallet er partall')\n",
    "else:\n",
    "    print('????')           #Hva skal den skrives ut hvis vilkåret er ikke sant?"
   ]
  },
  {
   "cell_type": "markdown",
   "metadata": {},
   "source": [
    "## Lag en program som kjører Collatz algoritme\n",
    "\n",
    "Lag en <code>while</code>-løkke i Python som beregner for $n=5$ tallsekvensen i Collatz' algorime.\n",
    "\n",
    "Tips: \n",
    "- Det fins flere muligheter for å lage en slik løkke. Spørsmål er hva den skulle sjekke for å slutte med løkken.\n",
    "- Underveis må løkken sjekke om resultatet som har blitt utregnet er partall eller oddetall for å komme videre. Bruk partall test for dette!"
   ]
  },
  {
   "cell_type": "code",
   "execution_count": null,
   "metadata": {},
   "outputs": [],
   "source": [
    "#for nå, ikke endre linje 2\n",
    "n = 5 \n",
    "\n",
    "while #Når skal løkken avsluttes?\n",
    "#Skriv din kode som skal utføres i løkken her"
   ]
  },
  {
   "cell_type": "markdown",
   "metadata": {},
   "source": [
    "Hvis du endrer verdien $n$ i linje 2 av cellen oppover, kan du beregne Collatz sekvensen nå for alle mulige tall du ønsker å teste"
   ]
  },
  {
   "cell_type": "markdown",
   "metadata": {},
   "source": [
    "# Mer avanserte oppgaver\n",
    "\n",
    "Under ser du en funksjonsdefinisjon i Python av funksjonen <code>minCollatz()</code>. Dessverre har noen glemt å sette inn programmkoden i funksjonen så nå gjør den ingenting.\n",
    "Sett inn programmkode slik at minCollatz(x) skriver ut tallene fra Collatz' tallsekvens for $x$ til den har kommet til $1$."
   ]
  },
  {
   "cell_type": "code",
   "execution_count": null,
   "metadata": {},
   "outputs": [],
   "source": [
    "def minCollatz (x):\n",
    "    #Lag en forklaring her som forklarer hva funksjonen minCollatz gjør\n",
    "    \n",
    "    #Skriv koden din her"
   ]
  },
  {
   "cell_type": "markdown",
   "metadata": {},
   "source": [
    "Test deretter funksjonen med eksemplene som er gitt under"
   ]
  },
  {
   "cell_type": "code",
   "execution_count": null,
   "metadata": {},
   "outputs": [],
   "source": [
    "#Ikke endre noe i cellen, dette er bare for å teste\n",
    "#funksjonen du har laget\n",
    "\n",
    "minCollatz(5)   #Vi kjenner tallsekvens fra (a)\n",
    "\n",
    "minCollatz(7)  #Forventede resultat: \n",
    "               #7,22,11,34,17,52,26,13,40,20,10,5,16,8,4,2,1\n",
    "minCollatz(13) #Forventede resultat: 13,40,20,10,5,16,8,4,2,1"
   ]
  },
  {
   "cell_type": "markdown",
   "metadata": {},
   "source": [
    "# Mer informasjon om Collatz formodning\n",
    "\n",
    "Om du ønsker mer informasjon om Collatz formodning kan du sjekke disse kildene på nett (de er begge på engelsk). \n",
    "\n",
    "1. Les en fin artikkel i [Quanta magazine (engelsk)](https://www.quantamagazine.org/why-mathematicians-still-cant-solve-the-collatz-conjecture-20200922/#:~:text=The%20Collatz%20conjecture%20states%20that,(You%20were%20warned!)).\n",
    "2. Kjør Python cellen under for å få en YouTube video med informasjon om det:\n"
   ]
  },
  {
   "cell_type": "code",
   "execution_count": null,
   "metadata": {},
   "outputs": [],
   "source": [
    "from IPython.display import YouTubeVideo # Importer YouTube display funksjon\n",
    "\n",
    "YouTubeVideo(\"094y1Z2wpJg\",width=800, height=600)"
   ]
  },
  {
   "cell_type": "markdown",
   "metadata": {},
   "source": [
    "Litt moro som siste ting vi ville vise i denne notaten, sjekk XKCD comic:\n",
    "\n",
    "![The real Collatz conjecture](https://imgs.xkcd.com/comics/collatz_conjecture.png)"
   ]
  }
 ],
 "metadata": {
  "kernelspec": {
   "display_name": "Python 3",
   "language": "python",
   "name": "python3"
  },
  "language_info": {
   "codemirror_mode": {
    "name": "ipython",
    "version": 3
   },
   "file_extension": ".py",
   "mimetype": "text/x-python",
   "name": "python",
   "nbconvert_exporter": "python",
   "pygments_lexer": "ipython3",
   "version": "3.7.4"
  }
 },
 "nbformat": 4,
 "nbformat_minor": 4
}
