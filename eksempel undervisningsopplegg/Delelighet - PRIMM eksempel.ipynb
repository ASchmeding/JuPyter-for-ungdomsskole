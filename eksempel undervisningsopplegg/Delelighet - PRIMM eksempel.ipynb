{
 "cells": [
  {
   "cell_type": "markdown",
   "id": "4a14309b",
   "metadata": {},
   "source": [
    "# Delelighet i Python\n",
    "\n",
    "I dette notatbok skal vi utforske hvordan datamaskinen kan hjelpe oss å avgjøre om noen heltall er delelig med noen andre heltall. "
   ]
  },
  {
   "cell_type": "markdown",
   "id": "be3dd62c",
   "metadata": {},
   "source": [
    "## Didaktisk kommentar for lærere (slett cellen før notatboka gis til elever)\n",
    "\n",
    "Dette JuPyter notat brukes som et eksemple for PRIMM-syklus. Primm står for  \n",
    "- Predict (Forutse)\n",
    "- Run (Kjøre)\n",
    "- Investigate (Utforske)\n",
    "- Modify (Modifisere)\n",
    "- Make (Lage)\n",
    "og er en metodikk for å introdusere konsepter i programmering. Sjekk \n",
    "[Matematikksenterets nettside om PRIMM](https://www.matematikksenteret.no/l%C3%A6ringsressurser-og-undervisningsopplegg/programmering/anbefalt-arbeidsmetodikk)\n",
    "\n",
    "Faglig mål: Elever skal lære om modulus kommando <code>%</code> i Python."
   ]
  },
  {
   "cell_type": "markdown",
   "id": "f5b736e4",
   "metadata": {},
   "source": [
    "Les koden under og prøv å forutse hva programmet antageligvis gjør når den kjøres. Deretter kjør programmet nedover:"
   ]
  },
  {
   "cell_type": "code",
   "execution_count": null,
   "id": "0d2beaf2",
   "metadata": {},
   "outputs": [],
   "source": [
    "mitt_tall = input('Skriv inn et heltall mellom 10 og 50')\n",
    "if mitt_tall % 3 == 0:\n",
    "    print(mitt_tall, ' er delelig med 3')\n",
    "else:\n",
    "    print(mitt_tall, ' er ikke delelig med 3')"
   ]
  },
  {
   "cell_type": "markdown",
   "id": "5cd92f8b",
   "metadata": {},
   "source": [
    "**Spørsmål:** \n",
    "    a) Hva gjør programmet?\n",
    "    b) Sjedde det som dere forutså?"
   ]
  },
  {
   "cell_type": "markdown",
   "id": "3574c000",
   "metadata": {},
   "source": [
    "**Plass for dine notater, dobbeltklikk her for å legge inn tekst**"
   ]
  },
  {
   "cell_type": "markdown",
   "id": "999f9953",
   "metadata": {},
   "source": [
    "## Undersøk koden\n",
    "Du skal forklare en som er nybegynner i programmering hvordan programmet fungerer. Ta for deg hver sekvens av blokker i koden og si hva de gjør. "
   ]
  },
  {
   "cell_type": "code",
   "execution_count": null,
   "id": "0112aa30",
   "metadata": {},
   "outputs": [],
   "source": [
    "##Block 1:\n",
    "mitt_tall = input('Skriv inn et heltall mellom 10 og 50')"
   ]
  },
  {
   "cell_type": "markdown",
   "id": "3d2f103c",
   "metadata": {},
   "source": [
    "**Plass for dine notater, dobbeltklikk her for å legge inn tekst**"
   ]
  },
  {
   "cell_type": "code",
   "execution_count": null,
   "id": "0af42872",
   "metadata": {},
   "outputs": [],
   "source": [
    "##Block 2:\n",
    "if mitt_tall % 3 == 0:\n",
    "    print(mitt_tall, ' er delelig med 3')\n",
    "else:\n",
    "    print(mitt_tall, ' er ikke delelig med 3')"
   ]
  },
  {
   "cell_type": "markdown",
   "id": "2a69cf94",
   "metadata": {},
   "source": [
    "**Plass for dine notater, dobbeltklikk her for å legge inn tekst**"
   ]
  },
  {
   "cell_type": "markdown",
   "id": "3a7d60aa",
   "metadata": {},
   "source": [
    "## Undersøk vilkåret i koden\n",
    "\n",
    "Se spesielt på vilkåret som er gitt i koden som\n",
    "\n",
    "<code> mitt_tall % 3 == 0 </code>\n",
    "\n",
    "1. Hva tror du skjer hvis du bytter ut $0$ med $1$? Stemmer utsagn programmet gir ut på skjermen?\n",
    "2. Prøv å taste inn ulike tall når katten ber deg skrive inn et tall mellom 10 og 50. Hvilke tall forteller programmet nå at er delelige med 3? Ser du noe mønster? \n",
    "\n",
    "Vi gjenta opprinnelig koden nedover slik at dere kan bruke det for å jobbe med oppgavene."
   ]
  },
  {
   "cell_type": "code",
   "execution_count": null,
   "id": "1a41e055",
   "metadata": {},
   "outputs": [],
   "source": [
    "mitt_tall = input('Skriv inn et heltall mellom 10 og 50')\n",
    "if mitt_tall % 3 == 0:\n",
    "    print(mitt_tall, ' er delelig med 3')\n",
    "else:\n",
    "    print(mitt_tall, ' er ikke delelig med 3')"
   ]
  },
  {
   "cell_type": "markdown",
   "id": "d482f6dc",
   "metadata": {},
   "source": [
    " 3. Prøv å forklare hva symbolet <code> % </code> gjør for noe.  \n",
    "    Tip: Symbolet brukes alltid mellom to heltall, dvs. <code> tall1 % tall2 </code> og det gjør noe med tallene.\n",
    " 4. Hva tror du skjer om du bytter ut 3 med et annet tall? Er det noe annet i programmet du også må endre da? "
   ]
  },
  {
   "cell_type": "markdown",
   "id": "6bd731b3",
   "metadata": {},
   "source": [
    "**Plass for dine notater, dobbeltklikk her for å legge inn tekst**"
   ]
  },
  {
   "cell_type": "markdown",
   "id": "4b11fadf",
   "metadata": {},
   "source": [
    "## Undersøk forskjellige programmer\n",
    "\n",
    "Nede ser du et annet program. \n",
    "\n",
    "1. Hva er forskjellen på programmet vi har sett allerede på og program 2? \n",
    "2. Kjør program 2 og prøv med ulike tall. Hva skjer? Hvorfor? Diskuter med sidemannen.  "
   ]
  },
  {
   "cell_type": "code",
   "execution_count": null,
   "id": "cafa3f27",
   "metadata": {},
   "outputs": [],
   "source": [
    "#Program 2\n",
    "mitt_tall = input('Skriv inn et heltall mellom 10 og 50')\n",
    "if mitt_tall / 3 == 0:\n",
    "    print(mitt_tall, ' er delelig med 3')\n",
    "else:\n",
    "    print(mitt_tall, ' er ikke delelig med 3')"
   ]
  },
  {
   "cell_type": "markdown",
   "id": "2a813c00",
   "metadata": {},
   "source": [
    "**Plass for dine notater, dobbeltklikk her for å legge inn tekst**"
   ]
  },
  {
   "cell_type": "markdown",
   "id": "316c70ca",
   "metadata": {},
   "source": [
    "Nede presenterer vi nå et tredje program.\n",
    "\n",
    "3. Hva sjekker dette programmet?  \n",
    "4. Programmet mangler konklusjonen som skrives på skjermen. Hva bør stå i print kommandoer?"
   ]
  },
  {
   "cell_type": "code",
   "execution_count": null,
   "id": "c820a19c",
   "metadata": {},
   "outputs": [],
   "source": [
    "#Program 3\n",
    "mitt_tall = input('Skriv inn et heltall mellom 10 og 50')\n",
    "if (mitt_tall % 3 == 0) and (mitt_tall % 2 ==0):\n",
    "    print(mitt_tall, ' KONKLUSJONEN MANGLES')\n",
    "else:\n",
    "    print(mitt_tall, ' KONKLUSJONEN MANGLES')"
   ]
  },
  {
   "cell_type": "markdown",
   "id": "173ab488",
   "metadata": {},
   "source": [
    "# Modifiser program 3\n",
    "\n",
    "Ta utgangspunkt i program 3 fra forrige oppgave (reprodusert i neste kodecelle).\n",
    "Endre programmet, så...\n",
    "\n",
    "1. brukeren får beskjed om å skrive inn et tall mellom $100$ og $1000$.  \n",
    "2. det sjekker om tallet brukeren taster inn er delelig med både $4$ og $5$.  \n",
    "3. det sjekker om tallet brukeren taster inn er delelig med både $4$ og $5$, men ikke delelig med $3$.  \n",
    "   Tips: Husk at vi har lært om logiske operasjoner <code> and </code>, <code> != </code> og <code> not </code> \n",
    "4. brukeren får en tilbakemelding på skjerm som passer med det du har undersøkt.  "
   ]
  },
  {
   "cell_type": "code",
   "execution_count": null,
   "id": "887132d5",
   "metadata": {},
   "outputs": [],
   "source": [
    "#Program 3\n",
    "mitt_tall = input('Skriv inn et heltall mellom 10 og 50')\n",
    "if (mitt_tall % 3 == 0) and (mitt_tall % 2 ==0):\n",
    "    print(mitt_tall, ' KONKLUSJONEN MANGLES')\n",
    "else:\n",
    "    print(mitt_tall, ' KONKLUSJONEN MANGLES')"
   ]
  },
  {
   "cell_type": "markdown",
   "id": "80481b61",
   "metadata": {},
   "source": [
    "## Ekstraoppgave: Modifiser program 3 igjen \n",
    "\n",
    "Hva skjer om brukeren taster inn et tall som ikke er mellom $100$ og $1000$? \n",
    "\n",
    "Prøv å endre programmet så brukeren får beskjed om å taste inn et nytt tall dersom tallet brukeren skriver inn ikke er mellom $100$ og $1000$.  "
   ]
  },
  {
   "cell_type": "markdown",
   "id": "3901e83d",
   "metadata": {},
   "source": [
    "## Lag et nytt program ved hjelp av %\n",
    "\n",
    "Lag et program som sjekker om et hvilket som helst år er et skuddår.\n",
    "\n",
    "Husk at de følgende regler gjelder for skuddår.\n",
    "\n",
    "#### Skuddår? Regler avhengig av årstall\n",
    "\n",
    "Årstall            |  Skuddår?\n",
    "------------------ |  ------------------- \n",
    "ikke delig med $4$ |  ikke skuddår             \n",
    "delelig med $4$    |  skuddår             \n",
    "delelig med $100$  |  ikke skuddår     \n",
    "delelig med $400$  |  skuddår\n",
    "\n",
    "Merk at reglene som står nederst er sterkere enn de som står høyere oppe. Dvs. $1900$ er ikke et skuddår siden den er delelig med $100$ (og ikke delelig med $400$) mens den er delelig med $4$.\n",
    "\n",
    "1. Lag først et flytskjema for å planlegge hvordan programmet skal se ut.  \n",
    "2. Tenk igjennom hvilke blokker programkode du vil trenge for å lage programmet.  \n",
    "3. Lag programmet. \n",
    "\n",
    "EKSTRA: Legg inn en begrensning i programmet, som ikke gjør det mulig å sjekke årene etter år $3000$ "
   ]
  },
  {
   "cell_type": "code",
   "execution_count": null,
   "id": "1d7b7ba4",
   "metadata": {},
   "outputs": [],
   "source": [
    "# Plass for ditt program"
   ]
  },
  {
   "cell_type": "markdown",
   "id": "0b0b682a",
   "metadata": {},
   "source": [
    "## Lag et nytt program Del 2 (enkelt oppgave)\n",
    "\n",
    "Lag et program som søsken kan bruke for å sjekke om alle får like mye godteri! Brukeren må taste inn hvor mange de er, og hvor mange godteribiter de skal dele.  "
   ]
  },
  {
   "cell_type": "code",
   "execution_count": null,
   "id": "5f5b3b5e",
   "metadata": {},
   "outputs": [],
   "source": [
    "# Plass for ditt program"
   ]
  },
  {
   "cell_type": "markdown",
   "id": "58f41c0f",
   "metadata": {},
   "source": [
    "## Lag et nytt program Del 3 (litt mer avansert versjon av Del 2)\n",
    "1. Lag et program som søsken kan bruke for å sjekke om alle får like mye godteri! Brukeren må taste inn hvor mange de er, og hvor mange godteribiter de skal dele. \n",
    "\n",
    "2. Endre programmet ditt så det også regner ut hvor mange godteribiter de får hver og hvor mange de må gi til mamma. "
   ]
  },
  {
   "cell_type": "code",
   "execution_count": null,
   "id": "e62165e3",
   "metadata": {},
   "outputs": [],
   "source": [
    "# Plass for ditt program"
   ]
  }
 ],
 "metadata": {
  "kernelspec": {
   "display_name": "Python 3 (ipykernel)",
   "language": "python",
   "name": "python3"
  },
  "language_info": {
   "codemirror_mode": {
    "name": "ipython",
    "version": 3
   },
   "file_extension": ".py",
   "mimetype": "text/x-python",
   "name": "python",
   "nbconvert_exporter": "python",
   "pygments_lexer": "ipython3",
   "version": "3.10.9"
  }
 },
 "nbformat": 4,
 "nbformat_minor": 5
}
