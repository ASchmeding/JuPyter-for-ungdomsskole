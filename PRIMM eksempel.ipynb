{
 "cells": [
  {
   "cell_type": "markdown",
   "metadata": {},
   "source": [
    "# PRIMM syklus\n",
    "\n",
    "Formålet med notatet er å gi et eksempel på hvordan opplæring i programmering ved hjelp av PRIMM syklus kan se ut. PRIMM er en forkortelse for\n",
    "\n",
    "**P**redict (Forutse) - Koden sjekkes før den utføres. Kan elever forklare hva den gjør?\n",
    "\n",
    "**R**un (Kjør) - Kjør koden og sjekk hva resultatet er.\n",
    "\n",
    "**I**nvestigate (Undersøk) - Undersøk koden, hva skjer  og hvordan er dette relatert til problemet\n",
    "\n",
    "**M**odify (Endre) - Endre koden slik at hensikten blir oppnådd.\n",
    "\n",
    "**M**ake (Lag) - Lag ny kode/nytt program med utgangspunkt i den gamle koden.\n",
    "\n",
    "Notatet vil videre gi et eksempel på en PRIMM syklus. Notatet er tenkt som en enkel oversikt over syklusen, med didaktiske kommentar (disse bør redigeres bort om elever skal utføre syklusen)."
   ]
  },
  {
   "cell_type": "markdown",
   "metadata": {},
   "source": [
    "## PRIMM eksempel: Hvordan bytte verdien av to variabler\n",
    "\n",
    "I koden nedenfor skal Python jobbe med to variabler <code>x</code> og <code>y</code>. Før du kjører koden, prøv å finne ut hva resultatet av programmet vil bli og hva målet med koden kan være.\n",
    "\n",
    "**Didaktisk kommentar:** Her ser vi det første steget i en PRIMM syklus. Elever må forutse hva koden gjør. Formålet er enkelt å forstå ved hjelp av tekst i <code>print()</code> kommando. Vitsen med oppgaven er at det er veldig enkelt, men inneholder en vanlig misoppfatning mange nybegynnere i programmering har."
   ]
  },
  {
   "cell_type": "code",
   "execution_count": 3,
   "metadata": {},
   "outputs": [
    {
     "name": "stdout",
     "output_type": "stream",
     "text": [
      "Verdien til x etter bytte:  10\n",
      "Verdien til y etter bytte:  10\n"
     ]
    }
   ],
   "source": [
    "x = 5\n",
    "y = 10\n",
    "\n",
    "x = y\n",
    "y = x\n",
    "\n",
    "print('Verdien til x etter bytte: ', x)\n",
    "print('Verdien til y etter bytte: ', y)"
   ]
  },
  {
   "cell_type": "markdown",
   "metadata": {},
   "source": [
    "Kjør nå programmet. Er resultatet som du hadde forventet?\n",
    "\n",
    "**Didaktisk kommentar:** Steg 2 i PRIMM: De skal kjøre programmet og finne ut hva resultatet er. Overraskelsen er antageligvis for de fleste, at de to variablene har samme verdi. Det gir oss muligheten til å undersøke koden i neste steg.\n",
    "\n",
    "Resultatet var kanskje litt overraskende gitt formålet med programmet. La oss undersøke og finne ut hva som har skjedd. Kommenter programkoden linje for linje:\n",
    "\n",
    "**Didaktisk kommentar** Steg 3 i Primm: Vi bruker kommentarfunksjonen i Python for å undersøke koden systematisk. Under har vi angitt en mulig løsning."
   ]
  },
  {
   "cell_type": "code",
   "execution_count": null,
   "metadata": {},
   "outputs": [],
   "source": [
    "x = 5   #Definer en variabel x med verdi 5\n",
    "y = 10  #Definer en variabel y med verdi 10  \n",
    "\n",
    "x = y   #Sett verdien av x til verdien av y\n",
    "y = x   #Sett verdien av y til verdien av x\n",
    "\n",
    "print('Verdien til x etter bytte: ', x) #Skriv ut verdien av x og forklaring på skjerm\n",
    "print('Verdien til y etter bytte: ', y) #Skriv ut verdien av x og forklaring på skjerm"
   ]
  },
  {
   "cell_type": "markdown",
   "metadata": {},
   "source": [
    "Formålet med koden er å bytte verdien til to variabler. Forklar hvorfor begge variabler har samme verdi etter koden er kjørt. Hvorfor ble ikke verdiene byttet?\n",
    "\n",
    "**Hint 1:** Python utfører instruksjoner i programkodene linje for linje. Dvs. det som kommer først utføres først.\n",
    "\n",
    "**Hint 2:** En variabel er et navn for en verdi. Variabler tilater at Python husker en verdi, men en variabel kan i hvert gitte tidspunkt, bare ha *en* verdi.\n",
    "\n",
    "**Didaktisk kommentar** Vi er fortsatt i steg 3 av PRIMM syklusen. Nå ber vi elever om å analysere feilen. Avhengig av hvilken kunnskap elevene har, må vi tipse dem om hva som gikk galt. Det leder over til neste steg, hvor de skal endre programmet."
   ]
  },
  {
   "cell_type": "markdown",
   "metadata": {},
   "source": [
    "**Løsningsforslag** Problemet er at vi i linje 4 og 5 setter nye verdier for $x$ og $y$. Vi endrer verdien av $x$ til verdien av $y$ i linje 4. Siden det utføres først og en variabel bare kan ha en verdi i hvert tidspunkt *glemmer* Python den opprinnelige verdien til $x$. Den opprinnelige verdien er derfor ikke lenger tilgjengelig når linje 5 kjøres. Dermed endrer Python i linje 5 verdien av $y$ til verdien av $x$, men den er allerede endret til opprinnelig verdien av $y$. Så begge variablene har videre samme verdi.\n",
    "Konklusjon: Det er umulig å bytte verdien av to variabler bare ved hjelp av disse to variablene."
   ]
  },
  {
   "cell_type": "markdown",
   "metadata": {},
   "source": [
    "Endre programmet slik at den faktisk bytter de to variablene.\n",
    "\n",
    "**Hint:** Kan dere innføre en tredje variabel som kan hjelpe dere med å løse problemet?\n",
    "\n",
    "**Didaktisk kommentar** Vi har nå begynt med Steg 4 i PRIMM. Elever skal endre programmet slik at det oppnår målet. Det er kanskje ikke nødvendig å tipse dem om en tredje variabel, men de erfaringene vi har hatt med oppgavenav denne typen, har vist oss at mange prøver flere istedet for å bytte variabler og bare setter $x,y$ til de får de forventede verdiene. Koden ser da slik ut:\n",
    "<code>\n",
    "    x=5\n",
    "    y=10\n",
    "    x=y\n",
    "    y=5\n",
    "    ...\n",
    "    </code"
   ]
  },
  {
   "cell_type": "code",
   "execution_count": null,
   "metadata": {},
   "outputs": [],
   "source": [
    "#Løsningsforslag\n",
    "\n",
    "x=5\n",
    "y=10\n",
    "\n",
    "hjelpevariabel = x  #Bruk en ny variabel for å lagre verdien til x\n",
    "x=y\n",
    "y= hjelpevariabel\n",
    "\n",
    "print('Verdien til x etter bytte: ', x)\n",
    "print('Verdien til y etter bytte: ', y)"
   ]
  },
  {
   "cell_type": "markdown",
   "metadata": {},
   "source": [
    "Lag et program som ber brukeren å taste inn to tall, lagrer dem som variabler og bytter verdien til disse to etterpå før den skriver ut verdiene på skjermen.\n",
    "\n",
    "**Hint:** I Python\n",
    "**Didaktisk kommentar** Siste steg i PRIMM syklus. Elever skal videreutvikle programmet. Dette er mer utfordrende. Ideen er at de kan gjenbruke koden de er allerede kjent med."
   ]
  }
 ],
 "metadata": {
  "kernelspec": {
   "display_name": "Python 3",
   "language": "python",
   "name": "python3"
  },
  "language_info": {
   "codemirror_mode": {
    "name": "ipython",
    "version": 3
   },
   "file_extension": ".py",
   "mimetype": "text/x-python",
   "name": "python",
   "nbconvert_exporter": "python",
   "pygments_lexer": "ipython3",
   "version": "3.7.4"
  }
 },
 "nbformat": 4,
 "nbformat_minor": 2
}
