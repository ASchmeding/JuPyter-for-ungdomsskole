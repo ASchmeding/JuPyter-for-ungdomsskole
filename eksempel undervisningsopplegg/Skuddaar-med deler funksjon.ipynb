{
 "cells": [
  {
   "cell_type": "markdown",
   "metadata": {},
   "source": [
    "# Skuddår eller ikke?\n",
    "\n",
    "Jeg husker aldri om et år er et skuddår, selv om det finnes ganske enkle regler for det (se tabellen under). Målet i denne økta er å programmere Python til å svare på spørsmålet om et gitt år er skuddår eller ikke. \n",
    "\n",
    "#### Skuddår? Regler avhengig av årstall\n",
    "\n",
    "Årstall            |  Skuddår?\n",
    "------------------ |  ------------------- \n",
    "ikke delig med $4$ |  ikke skuddår             \n",
    "delelig med $4$    |  skuddår             \n",
    "delelig med $100$  |  ikke skuddår     \n",
    "delelig med $400$  |  skuddår\n",
    "\n",
    "Merk at reglene som står nederst er sterkere enn de som står høyere oppe. Dvs. $1900$ er ikke et skuddår siden den er delelig med $100$ (og ikke delelig med $400$) mens den er delelig med $4$."
   ]
  },
  {
   "cell_type": "markdown",
   "metadata": {},
   "source": [
    "## En funksjon som tester delelighet\n",
    "\n",
    "I skuddår algoritmen vil vi gjerne teste om noen tall er delelig med hverandre. For dette kan du bruke funksjonen som ligger i kodecellen under. For å bruke den senere i koden må dere først kjøre kodecellen.\n",
    "Deretter kan dere bruke den nye funksjonen ved å taste inn\n",
    "\n",
    "<code> deler( tall1, tall2) </code>\n",
    "\n",
    "som sjekker om tall1 deler tall2. \n",
    "Hvis tall1 deler tall2 gir funksjonen tilbake verdien True (sant), hvis ikke er verdien til funksjonen False (usant)"
   ]
  },
  {
   "cell_type": "code",
   "execution_count": 25,
   "metadata": {},
   "outputs": [],
   "source": [
    "# Bare kjør koden i cellen for å gjøre funksjonen brukbart i deres kode\n",
    "\n",
    "def deler(tall1,tall2):\n",
    "    if tall2 % tall1:\n",
    "        return False\n",
    "    else:\n",
    "        return True      "
   ]
  },
  {
   "cell_type": "markdown",
   "metadata": {},
   "source": [
    "Cellen nede sjekker om funksjonen <code> deler </code> funker som vi har antatt:"
   ]
  },
  {
   "cell_type": "code",
   "execution_count": 26,
   "metadata": {},
   "outputs": [
    {
     "name": "stdout",
     "output_type": "stream",
     "text": [
      "deler (3,4) gir  False  deler(2,4) gir  True\n"
     ]
    }
   ],
   "source": [
    "#Cellen som kan vise deg resultatet av modulus\n",
    "print('deler (3,4) gir ', deler(3,4), ' deler(2,4) gir ', deler(2,4))"
   ]
  },
  {
   "cell_type": "markdown",
   "metadata": {},
   "source": [
    "Forklar koden under linje for linje.\n",
    "Hva gjør koden og hvordan kan vi bruke den "
   ]
  },
  {
   "cell_type": "code",
   "execution_count": null,
   "metadata": {},
   "outputs": [],
   "source": [
    "aarstall = 1600\n",
    "\n",
    "if deler(400,aarstall):\n",
    "    print('Året er et skuddår!')\n",
    "else:\n",
    "    print('Året er kanskje et skuddår.')"
   ]
  },
  {
   "cell_type": "markdown",
   "metadata": {},
   "source": [
    "## Test for skuddår!\n",
    "\n",
    "Lag en program som tester om et år er et skuddår. Vi anbefaler å bruke modulus for testen og repeterer tabellen med egenskaper som testes for å finne ut om året er et skuddår.\n",
    "\n",
    "#### Skuddår? Regler avhengig av årstall\n",
    "\n",
    "Årstall            |  Skuddår?\n",
    "------------------ |  ------------------- \n",
    "ikke delig med $4$ |  ikke skuddår             \n",
    "delelig med $4$    |  skuddår             \n",
    "delelig med $100$  |  ikke skuddår     \n",
    "delelig med $400$  |  skuddår\n",
    "\n",
    "Merk at reglene som står nederst er sterkere enn de som står høyere oppe. Dvs. $1900$ er ikke et skuddår siden den er delelig med $100$ (og ikke delelig med $400$) mens den er delelig med $4$."
   ]
  },
  {
   "cell_type": "code",
   "execution_count": null,
   "metadata": {},
   "outputs": [],
   "source": [
    "#Plass for din kode. Husk å trykke SHIFT+ENTER for å kjøre"
   ]
  },
  {
   "cell_type": "markdown",
   "metadata": {},
   "source": [
    "### Utvidelse ved bruk av funksjoner\n",
    "\n",
    "Bruk programkoden du har lagd tidligere for å lage en funksjon <code>skuddtest</code> i Python som tester om ett gitt år er et skuddår. Test deretter funksjonen din ved bruk av neste cellen."
   ]
  },
  {
   "cell_type": "code",
   "execution_count": null,
   "metadata": {},
   "outputs": [],
   "source": [
    "def skuddtest (arstall): #Ikke endre navnet til funskjon vi trenger den i neste cellen\n",
    "\n",
    "    #Skriv din kode her og lag funskjonen skuddtest! Husk å trykke SHIFT+ENTER for å kjøre "
   ]
  },
  {
   "cell_type": "code",
   "execution_count": null,
   "metadata": {},
   "outputs": [],
   "source": [
    "#Ikke endre noe i cellen, vi bruker det som en test for funskjonen din\n",
    "skuddtest(1900)             #ikke skuddår\n",
    "skuddtest(2000)             #skuddår\n",
    "skuddtest(2004)             #skuddår\n",
    "skuddtest(2022)             #ikke skuddår"
   ]
  }
 ],
 "metadata": {
  "kernelspec": {
   "display_name": "Python 3 (ipykernel)",
   "language": "python",
   "name": "python3"
  },
  "language_info": {
   "codemirror_mode": {
    "name": "ipython",
    "version": 3
   },
   "file_extension": ".py",
   "mimetype": "text/x-python",
   "name": "python",
   "nbconvert_exporter": "python",
   "pygments_lexer": "ipython3",
   "version": "3.10.9"
  }
 },
 "nbformat": 4,
 "nbformat_minor": 4
}
