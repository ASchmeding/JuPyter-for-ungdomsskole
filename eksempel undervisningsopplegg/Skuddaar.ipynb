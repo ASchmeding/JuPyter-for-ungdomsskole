{
 "cells": [
  {
   "cell_type": "markdown",
   "metadata": {},
   "source": [
    "# Skuddår eller ikke?\n",
    "\n",
    "Jeg husker aldri om et år er et skuddår, selv om det finnes ganske enkle regler for det (se tabellen under). Målet i denne økta er å programmere Python til å svare på spørsmålet om et gitt år er skuddår eller ikke. \n",
    "\n",
    "#### Skuddår? Regler avhengig av årstall\n",
    "\n",
    "Årstall            |  Skuddår?\n",
    "------------------ |  ------------------- \n",
    "ikke delig med $4$ |  ikke skuddår             \n",
    "delelig med $4$    |  skuddår             \n",
    "delelig med $100$  |  ikke skuddår     \n",
    "delelig med $400$  |  skuddår\n",
    "\n",
    "Merk at reglene som står nederst er sterkere enn de som står høyere oppe. Dvs. $1900$ er ikke et skuddår siden den er delelig med $100$ (og ikke delelig med $400$) mens den er delelig med $4$."
   ]
  },
  {
   "cell_type": "markdown",
   "metadata": {},
   "source": [
    "## Er tallet delelig med et annet tall?\n",
    "\n",
    "La oss først se på en operasjon <code>%</code> som heter **modulus**. \n",
    "\n",
    "**Oppgave** Se på følgende utregninger i Python og forklar hva modulus gjør med egne ord."
   ]
  },
  {
   "cell_type": "code",
   "execution_count": null,
   "metadata": {},
   "outputs": [],
   "source": [
    "#Vi ser på noen eksempler for utregninger ved bruk av modulus\n",
    "#Ikke endre koden i cellen, det er tenkt som et hjelpemiddel for deg! Trykk SHIFT + ENTER\n",
    "\n",
    "print( '4 % 2 = ',4 % 2 , ',   4 % 3 = ' , 4%3,',   4 % 4 = ' , 4%4 ,',   4 % 5 = ' , 4%5)\n",
    "print( '5 % 2 = ',5 % 2 , ',   5 % 3 = ' , 5%3,',   5 % 4 = ' , 5%4 ,',   5 % 5 = ' , 4%5)"
   ]
  },
  {
   "cell_type": "markdown",
   "metadata": {},
   "source": [
    "**Celle for dine forklaringer (dobbeltklikk her for å skrive noe)**"
   ]
  },
  {
   "cell_type": "markdown",
   "metadata": {},
   "source": [
    "Odd sier \"Vi kan bruke modulus for å avgjøre om et tall er delelig med et annet tall. For dette bør vi bare se på hva resultatet av <code>%</code> er\". \n",
    "\n",
    "Forklar hvordan du kan bruke resultatet av <code>1900 % 4</code> og <code> 1900 % 400</code> for å avgjøre at $1900$ er delelig med $4$ men ikke delelig med $400$."
   ]
  },
  {
   "cell_type": "code",
   "execution_count": null,
   "metadata": {},
   "outputs": [],
   "source": [
    "#Cellen som kan vise deg resultatet av modulus\n",
    "print('1900 % 4 = ',1900 % 4, ' 1900 % 400 = ', 1900 % 400)"
   ]
  },
  {
   "cell_type": "markdown",
   "metadata": {},
   "source": [
    "**Celle for dine forklaringer (dobbeltklikk her for å skrive noe)**"
   ]
  },
  {
   "cell_type": "markdown",
   "metadata": {},
   "source": [
    "## Test for skuddår!\n",
    "\n",
    "Lag en program som tester om et år er et skuddår. Vi anbefaler å bruke modulus for testen og repeterer tabellen med egenskaper som testes for å finne ut om året er et skuddår.\n",
    "\n",
    "#### Skuddår? Regler avhengig av årstall\n",
    "\n",
    "Årstall            |  Skuddår?\n",
    "------------------ |  ------------------- \n",
    "ikke delig med $4$ |  ikke skuddår             \n",
    "delelig med $4$    |  skuddår             \n",
    "delelig med $100$  |  ikke skuddår     \n",
    "delelig med $400$  |  skuddår\n",
    "\n",
    "Merk at reglene som står nederst er sterkere enn de som står høyere oppe. Dvs. $1900$ er ikke et skuddår siden den er delelig med $100$ (og ikke delelig med $400$) mens den er delelig med $4$."
   ]
  },
  {
   "cell_type": "code",
   "execution_count": null,
   "metadata": {},
   "outputs": [],
   "source": [
    "#Plass for din kode. Husk å trykke SHIFT+ENTER for å kjøre"
   ]
  },
  {
   "cell_type": "markdown",
   "metadata": {},
   "source": [
    "### Utvidelse ved bruk av funksjoner\n",
    "\n",
    "Bruk programkoden du har lagd tidligere for å lage en funksjon <code>skuddtest</code> i Python som tester om ett gitt år er et skuddår. Test deretter funksjonen din ved bruk av neste cellen."
   ]
  },
  {
   "cell_type": "code",
   "execution_count": null,
   "metadata": {},
   "outputs": [],
   "source": [
    "def skuddtest (arstall): #Ikke endre navnet til funskjon vi trenger den i neste cellen\n",
    "\n",
    "    #Skriv din kode her og lag funskjonen skuddtest! Husk å trykke SHIFT+ENTER for å kjøre "
   ]
  },
  {
   "cell_type": "code",
   "execution_count": null,
   "metadata": {},
   "outputs": [],
   "source": [
    "#Ikke endre noe i cellen, vi bruker det som en test for funskjonen din\n",
    "skuddtest(1900)             #ikke skuddår\n",
    "skuddtest(2000)             #skuddår\n",
    "skuddtest(2004)             #skuddår\n",
    "skuddtest(2022)             #ikke skuddår"
   ]
  }
 ],
 "metadata": {
  "kernelspec": {
   "display_name": "Python 3",
   "language": "python",
   "name": "python3"
  },
  "language_info": {
   "codemirror_mode": {
    "name": "ipython",
    "version": 3
   },
   "file_extension": ".py",
   "mimetype": "text/x-python",
   "name": "python",
   "nbconvert_exporter": "python",
   "pygments_lexer": "ipython3",
   "version": "3.7.4"
  }
 },
 "nbformat": 4,
 "nbformat_minor": 4
}
